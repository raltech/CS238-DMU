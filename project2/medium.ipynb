{
 "cells": [
  {
   "cell_type": "code",
   "execution_count": 2,
   "metadata": {},
   "outputs": [],
   "source": [
    "import numpy as np"
   ]
  },
  {
   "cell_type": "code",
   "execution_count": 7,
   "metadata": {},
   "outputs": [
    {
     "ename": "MemoryError",
     "evalue": "Unable to allocate 32.6 GiB for an array with shape (50000, 7, 50000) and data type float16",
     "output_type": "error",
     "traceback": [
      "\u001b[1;31m---------------------------------------------------------------------------\u001b[0m",
      "\u001b[1;31mMemoryError\u001b[0m                               Traceback (most recent call last)",
      "\u001b[1;32m<ipython-input-7-3f23baa1e082>\u001b[0m in \u001b[0;36m<module>\u001b[1;34m\u001b[0m\n\u001b[0;32m      1\u001b[0m \u001b[0mnS\u001b[0m \u001b[1;33m=\u001b[0m \u001b[1;36m500\u001b[0m\u001b[1;33m*\u001b[0m\u001b[1;36m100\u001b[0m\u001b[1;33m\u001b[0m\u001b[1;33m\u001b[0m\u001b[0m\n\u001b[0;32m      2\u001b[0m \u001b[0mnA\u001b[0m \u001b[1;33m=\u001b[0m \u001b[1;36m7\u001b[0m\u001b[1;33m\u001b[0m\u001b[1;33m\u001b[0m\u001b[0m\n\u001b[1;32m----> 3\u001b[1;33m \u001b[0mN\u001b[0m \u001b[1;33m=\u001b[0m \u001b[0mnp\u001b[0m\u001b[1;33m.\u001b[0m\u001b[0mzeros\u001b[0m\u001b[1;33m(\u001b[0m\u001b[1;33m(\u001b[0m\u001b[0mnS\u001b[0m\u001b[1;33m,\u001b[0m \u001b[0mnA\u001b[0m\u001b[1;33m,\u001b[0m \u001b[0mnS\u001b[0m\u001b[1;33m)\u001b[0m\u001b[1;33m,\u001b[0m \u001b[0mdtype\u001b[0m\u001b[1;33m=\u001b[0m\u001b[0mnp\u001b[0m\u001b[1;33m.\u001b[0m\u001b[0mfloat16\u001b[0m\u001b[1;33m)\u001b[0m\u001b[1;33m\u001b[0m\u001b[1;33m\u001b[0m\u001b[0m\n\u001b[0m\u001b[0;32m      4\u001b[0m \u001b[0mRho\u001b[0m \u001b[1;33m=\u001b[0m \u001b[0mnp\u001b[0m\u001b[1;33m.\u001b[0m\u001b[0mzeros\u001b[0m\u001b[1;33m(\u001b[0m\u001b[1;33m(\u001b[0m\u001b[0mnS\u001b[0m\u001b[1;33m,\u001b[0m \u001b[0mnA\u001b[0m\u001b[1;33m)\u001b[0m\u001b[1;33m)\u001b[0m\u001b[1;33m\u001b[0m\u001b[1;33m\u001b[0m\u001b[0m\n\u001b[0;32m      5\u001b[0m \u001b[0mU\u001b[0m \u001b[1;33m=\u001b[0m \u001b[0mnp\u001b[0m\u001b[1;33m.\u001b[0m\u001b[0mzeros\u001b[0m\u001b[1;33m(\u001b[0m\u001b[1;33m(\u001b[0m\u001b[0mnS\u001b[0m\u001b[1;33m)\u001b[0m\u001b[1;33m)\u001b[0m\u001b[1;33m\u001b[0m\u001b[1;33m\u001b[0m\u001b[0m\n",
      "\u001b[1;31mMemoryError\u001b[0m: Unable to allocate 32.6 GiB for an array with shape (50000, 7, 50000) and data type float16"
     ]
    }
   ],
   "source": [
    "nS = 500*100\n",
    "nA = 7\n",
    "N = np.zeros((nS, nA, nS), dtype=np.float16)\n",
    "Rho = np.zeros((nS, nA))\n",
    "U = np.zeros((nS))"
   ]
  },
  {
   "cell_type": "code",
   "execution_count": 5,
   "metadata": {},
   "outputs": [],
   "source": [
    "# load csv files one line at a time\n",
    "fpath = './data/medium.csv'\n",
    "with open(fpath, 'r') as f:\n",
    "    for line in f:\n",
    "        # skip header\n",
    "        if line.startswith('s,a,r,sp'):\n",
    "            continue\n",
    "        s, a, r, sp = line.split(',')\n",
    "        N[int(s)-1, int(a)-1, int(sp)-1] += 1\n",
    "        Rho[int(s)-1, int(a)-1] += int(r)"
   ]
  },
  {
   "cell_type": "code",
   "execution_count": 6,
   "metadata": {},
   "outputs": [
    {
     "ename": "MemoryError",
     "evalue": "Unable to allocate 130. GiB for an array with shape (50000, 7, 50000) and data type float64",
     "output_type": "error",
     "traceback": [
      "\u001b[1;31m---------------------------------------------------------------------------\u001b[0m",
      "\u001b[1;31mMemoryError\u001b[0m                               Traceback (most recent call last)",
      "\u001b[1;32m<ipython-input-6-fbd6f83aed0f>\u001b[0m in \u001b[0;36m<module>\u001b[1;34m\u001b[0m\n\u001b[0;32m      1\u001b[0m \u001b[1;31m# Estimate of transition probabilities T(s'|s,a) ~ N(s'|s,a) / N(s,a)\u001b[0m\u001b[1;33m\u001b[0m\u001b[1;33m\u001b[0m\u001b[1;33m\u001b[0m\u001b[0m\n\u001b[1;32m----> 2\u001b[1;33m \u001b[0mT\u001b[0m \u001b[1;33m=\u001b[0m \u001b[0mN\u001b[0m \u001b[1;33m/\u001b[0m \u001b[0mN\u001b[0m\u001b[1;33m.\u001b[0m\u001b[0msum\u001b[0m\u001b[1;33m(\u001b[0m\u001b[0maxis\u001b[0m\u001b[1;33m=\u001b[0m\u001b[1;36m2\u001b[0m\u001b[1;33m,\u001b[0m \u001b[0mkeepdims\u001b[0m\u001b[1;33m=\u001b[0m\u001b[1;32mTrue\u001b[0m\u001b[1;33m)\u001b[0m\u001b[1;33m\u001b[0m\u001b[1;33m\u001b[0m\u001b[0m\n\u001b[0m\u001b[0;32m      3\u001b[0m \u001b[1;33m\u001b[0m\u001b[0m\n\u001b[0;32m      4\u001b[0m \u001b[1;31m# Estimate of reward function R(s,a) ~ Rho(s,a) / N(s,a)\u001b[0m\u001b[1;33m\u001b[0m\u001b[1;33m\u001b[0m\u001b[1;33m\u001b[0m\u001b[0m\n\u001b[0;32m      5\u001b[0m \u001b[0mR\u001b[0m \u001b[1;33m=\u001b[0m \u001b[0mRho\u001b[0m \u001b[1;33m/\u001b[0m \u001b[0mN\u001b[0m\u001b[1;33m.\u001b[0m\u001b[0msum\u001b[0m\u001b[1;33m(\u001b[0m\u001b[0maxis\u001b[0m\u001b[1;33m=\u001b[0m\u001b[1;36m2\u001b[0m\u001b[1;33m,\u001b[0m \u001b[0mkeepdims\u001b[0m\u001b[1;33m=\u001b[0m\u001b[1;32mFalse\u001b[0m\u001b[1;33m)\u001b[0m\u001b[1;33m\u001b[0m\u001b[1;33m\u001b[0m\u001b[0m\n",
      "\u001b[1;31mMemoryError\u001b[0m: Unable to allocate 130. GiB for an array with shape (50000, 7, 50000) and data type float64"
     ]
    }
   ],
   "source": [
    "# Estimate of transition probabilities T(s'|s,a) ~ N(s'|s,a) / N(s,a)\n",
    "T = N / N.sum(axis=2, keepdims=True)\n",
    "\n",
    "# Estimate of reward function R(s,a) ~ Rho(s,a) / N(s,a)\n",
    "R = Rho / N.sum(axis=2, keepdims=False)"
   ]
  },
  {
   "cell_type": "code",
   "execution_count": null,
   "metadata": {},
   "outputs": [
    {
     "data": {
      "text/plain": [
       "((100, 4, 100), (100, 4), (100,))"
      ]
     },
     "execution_count": 48,
     "metadata": {},
     "output_type": "execute_result"
    }
   ],
   "source": [
    "T.shape, R.shape, U.shape"
   ]
  },
  {
   "cell_type": "code",
   "execution_count": 39,
   "metadata": {},
   "outputs": [],
   "source": [
    "# Calculate action-value function Q(s,a)\n",
    "Q = np.zeros((nS, nA))\n",
    "gamma = 0.9\n",
    "for i in range(100):\n",
    "    Q = R + gamma * T.dot(U)\n",
    "    U = Q.max(axis=1)\n"
   ]
  },
  {
   "cell_type": "code",
   "execution_count": 47,
   "metadata": {},
   "outputs": [],
   "source": [
    "# output the policy based on Q\n",
    "fpath = './data/medium.policy'\n",
    "policy = np.argmax(Q, axis=1)\n",
    "with open(fpath, 'w') as f:\n",
    "    for s in range(nS):\n",
    "        f.write(str(policy[s]+1) + '\\n')"
   ]
  },
  {
   "cell_type": "code",
   "execution_count": 58,
   "metadata": {},
   "outputs": [
    {
     "name": "stdout",
     "output_type": "stream",
     "text": [
      "[1 1 1 1 2 2 2 2 2 0]\n",
      "[1 1 1 1 1 2 2 2 2 0]\n",
      "[1 1 1 1 1 1 2 2 0 0]\n",
      "[1 1 1 1 1 1 3 0 0 0]\n",
      "[1 1 1 1 1 1 3 3 0 0]\n",
      "[1 1 1 1 3 3 3 3 3 0]\n",
      "[1 1 1 3 1 3 3 3 0 3]\n",
      "[1 2 2 3 3 3 3 3 3 3]\n",
      "[1 1 0 3 3 3 3 3 3 3]\n",
      "[3 3 3 3 3 3 3 3 3 3]\n",
      "['6.3', '7.1', '8.5', '10.0', '11.6', '13.4', '15.7', '13.7', '12.1', '10.9']\n",
      "['6.8', '8.0', '9.6', '11.5', '13.6', '16.3', '19.3', '16.4', '14.1', '12.0']\n",
      "['7.3', '8.8', '10.6', '13.2', '16.2', '20.0', '24.8', '20.4', '16.7', '13.6']\n",
      "['7.8', '9.4', '11.9', '15.0', '18.7', '24.1', '32.2', '24.6', '19.4', '15.3']\n",
      "['7.6', '9.1', '11.0', '13.5', '16.7', '20.2', '24.5', '20.4', '16.6', '13.6']\n",
      "['6.9', '8.0', '9.5', '11.5', '13.9', '16.5', '18.5', '16.3', '13.7', '11.8']\n",
      "['6.2', '7.0', '8.1', '9.6', '11.2', '13.5', '14.5', '13.2', '11.2', '9.7']\n",
      "['6.8', '7.9', '7.3', '8.0', '9.2', '10.8', '11.2', '10.8', '9.1', '8.0']\n",
      "['7.9', '10.2', '8.1', '7.0', '7.7', '8.6', '9.1', '8.8', '7.6', '6.7']\n",
      "['7.1', '7.8', '6.8', '6.2', '6.6', '7.2', '7.5', '7.3', '6.5', '5.9']\n"
     ]
    }
   ],
   "source": [
    "for i in range(10):\n",
    "    print(policy[i*10:(i+1)*10])\n",
    "\n",
    "for i in range(10):\n",
    "    # print the value function with 1 decimal place\n",
    "    print(['%.1f' % v for v in U[i*10:(i+1)*10]])\n",
    "    # print(U[i*10:(i+1)*10])"
   ]
  },
  {
   "cell_type": "code",
   "execution_count": null,
   "metadata": {},
   "outputs": [],
   "source": []
  }
 ],
 "metadata": {
  "kernelspec": {
   "display_name": "base",
   "language": "python",
   "name": "python3"
  },
  "language_info": {
   "codemirror_mode": {
    "name": "ipython",
    "version": 3
   },
   "file_extension": ".py",
   "mimetype": "text/x-python",
   "name": "python",
   "nbconvert_exporter": "python",
   "pygments_lexer": "ipython3",
   "version": "3.8.5"
  },
  "orig_nbformat": 4,
  "vscode": {
   "interpreter": {
    "hash": "9f52aeb6ff4a3bfb40f7f0ec1139a3c37050f256537f3b719badc18bf0b1e17e"
   }
  }
 },
 "nbformat": 4,
 "nbformat_minor": 2
}
