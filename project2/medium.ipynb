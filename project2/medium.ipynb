{
 "cells": [
  {
   "cell_type": "code",
   "execution_count": 39,
   "metadata": {},
   "outputs": [],
   "source": [
    "import numpy as np\n",
    "import tqdm"
   ]
  },
  {
   "cell_type": "code",
   "execution_count": 40,
   "metadata": {},
   "outputs": [],
   "source": [
    "nS = 500*100\n",
    "nA = 7\n",
    "N = np.zeros((nS, nA, nS), dtype=np.uint8)\n",
    "Nsa = np.zeros((nS, nA), dtype=np.uint16)\n",
    "Rho = np.zeros((nS, nA))\n",
    "U = np.zeros((nS))"
   ]
  },
  {
   "cell_type": "code",
   "execution_count": 41,
   "metadata": {},
   "outputs": [],
   "source": [
    "# load csv files one line at a time\n",
    "fpath = './data/medium.csv'\n",
    "with open(fpath, 'r') as f:\n",
    "    for line in f:\n",
    "        # skip header\n",
    "        if line.startswith('s,a,r,sp'):\n",
    "            continue\n",
    "        s, a, r, sp = line.split(',')\n",
    "        N[int(s)-1, int(a)-1, int(sp)-1] += 1\n",
    "        Rho[int(s)-1, int(a)-1] += int(r)"
   ]
  },
  {
   "cell_type": "code",
   "execution_count": 42,
   "metadata": {},
   "outputs": [],
   "source": [
    "Nsa = N.sum(axis=2)"
   ]
  },
  {
   "cell_type": "code",
   "execution_count": 51,
   "metadata": {},
   "outputs": [],
   "source": [
    "# Estimate of reward function R(s,a) ~ Rho(s,a) / N(s,a)\n",
    "R = np.zeros((nS, nA))\n",
    "for s in range(nS):\n",
    "    for a in range(nA):\n",
    "        if Nsa[s, a] > 0:\n",
    "            R[s, a] = Rho[s, a] / Nsa[s, a]"
   ]
  },
  {
   "cell_type": "code",
   "execution_count": 52,
   "metadata": {},
   "outputs": [
    {
     "name": "stderr",
     "output_type": "stream",
     "text": [
      "100%|██████████| 10/10 [00:42<00:00,  4.25s/it]\n"
     ]
    }
   ],
   "source": [
    "# Calculate action-value function Q(s,a) (non-vectorized)\n",
    "Q = np.zeros((nS, nA))\n",
    "gamma = 0.9\n",
    "for i in tqdm.tqdm(range(10)):\n",
    "    for s in range(nS):\n",
    "        for a in range(nA):\n",
    "            if Nsa[s, a] > 0:\n",
    "                T = N[s, a] / Nsa[s, a]\n",
    "                Q[s, a] = R[s, a] + gamma * T.dot(U)\n",
    "    U = Q.max(axis=1)"
   ]
  },
  {
   "cell_type": "code",
   "execution_count": 38,
   "metadata": {},
   "outputs": [],
   "source": [
    "# output the policy based on Q\n",
    "fpath = './data/medium.policy'\n",
    "policy = np.argmax(Q, axis=1)\n",
    "with open(fpath, 'w') as f:\n",
    "    for s in range(nS):\n",
    "        f.write(str(policy[s]+1) + '\\n')"
   ]
  }
 ],
 "metadata": {
  "kernelspec": {
   "display_name": "base",
   "language": "python",
   "name": "python3"
  },
  "language_info": {
   "codemirror_mode": {
    "name": "ipython",
    "version": 3
   },
   "file_extension": ".py",
   "mimetype": "text/x-python",
   "name": "python",
   "nbconvert_exporter": "python",
   "pygments_lexer": "ipython3",
   "version": "3.9.7"
  },
  "orig_nbformat": 4,
  "vscode": {
   "interpreter": {
    "hash": "b9b6150fce60c7c11180bd11ff42c178afdd9a9e30a53f6723387f7f29514c2e"
   }
  }
 },
 "nbformat": 4,
 "nbformat_minor": 2
}
