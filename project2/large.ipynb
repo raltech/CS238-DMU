{
 "cells": [
  {
   "cell_type": "code",
   "execution_count": 42,
   "metadata": {},
   "outputs": [],
   "source": [
    "import pandas as pd\n",
    "import numpy as np"
   ]
  },
  {
   "cell_type": "code",
   "execution_count": 43,
   "metadata": {},
   "outputs": [],
   "source": [
    "fpath = './data/large.csv'"
   ]
  },
  {
   "cell_type": "code",
   "execution_count": 44,
   "metadata": {},
   "outputs": [],
   "source": [
    "df = pd.read_csv(fpath)\n",
    "# create a list that contains unique values in each column\n",
    "unique_list = []\n",
    "for i in range(0, len(df.columns)):\n",
    "    unique_list.append(df.iloc[:, i].unique())\n",
    "assert(set(unique_list[0]) == set(unique_list[3]))\n",
    "state = np.sort(np.array(unique_list[0]))"
   ]
  },
  {
   "cell_type": "code",
   "execution_count": 45,
   "metadata": {},
   "outputs": [],
   "source": [
    "nS = 500\n",
    "nA = 9\n",
    "N = np.zeros((nS, nA, nS))\n",
    "Rho = np.zeros((nS, nA))\n",
    "U = np.zeros((nS))"
   ]
  },
  {
   "cell_type": "code",
   "execution_count": 46,
   "metadata": {},
   "outputs": [],
   "source": [
    "# load csv files one line at a time\n",
    "with open(fpath, 'r') as f:\n",
    "    for line in f:\n",
    "        # skip header\n",
    "        if line.startswith('s,a,r,sp'):\n",
    "            continue\n",
    "        s, a, r, sp = line.split(',')\n",
    "        s_idx = np.where(state==int(s))[0].item()\n",
    "        sp_idx = np.where(state==int(sp))[0].item()\n",
    "        N[int(s_idx), int(a)-1, int(sp_idx)] += 1\n",
    "        Rho[int(s_idx), int(a)-1] += int(r)"
   ]
  },
  {
   "cell_type": "code",
   "execution_count": 47,
   "metadata": {},
   "outputs": [
    {
     "name": "stderr",
     "output_type": "stream",
     "text": [
      "C:\\Users\\ralte\\AppData\\Local\\Temp/ipykernel_9780/1272904333.py:2: RuntimeWarning: invalid value encountered in true_divide\n",
      "  T = N / N.sum(axis=2, keepdims=True)\n",
      "C:\\Users\\ralte\\AppData\\Local\\Temp/ipykernel_9780/1272904333.py:5: RuntimeWarning: invalid value encountered in true_divide\n",
      "  R = Rho / N.sum(axis=2, keepdims=False)\n"
     ]
    }
   ],
   "source": [
    "# Estimate of transition probabilities T(s'|s,a) ~ N(s'|s,a) / N(s,a)\n",
    "T = N / N.sum(axis=2, keepdims=True)\n",
    "\n",
    "# Estimate of reward function R(s,a) ~ Rho(s,a) / N(s,a)\n",
    "R = Rho / N.sum(axis=2, keepdims=False)\n",
    "\n",
    "# replace invalud values with 0\n",
    "T[np.isnan(T)] = 0\n",
    "R[np.isnan(R)] = 0"
   ]
  },
  {
   "cell_type": "code",
   "execution_count": 48,
   "metadata": {},
   "outputs": [],
   "source": [
    "# Calculate action-value function Q(s,a) (vectorized)\n",
    "gamma = 0.9\n",
    "for i in range(100):\n",
    "    Q = R + gamma * T.dot(U)\n",
    "    U = Q.max(axis=1)"
   ]
  },
  {
   "cell_type": "code",
   "execution_count": 49,
   "metadata": {},
   "outputs": [],
   "source": [
    "# output the policy based on Q\n",
    "fpath = './data/large.policy'\n",
    "policy = np.argmax(Q, axis=1)"
   ]
  },
  {
   "cell_type": "code",
   "execution_count": 51,
   "metadata": {},
   "outputs": [],
   "source": [
    "with open(fpath, 'w') as f:\n",
    "    for s in range(312020):\n",
    "        if len(np.where(state==int(s+1))[0]) == 0:\n",
    "            p = 0\n",
    "        else:\n",
    "            p = policy[np.where(state==int(s+1))[0].item()]\n",
    "        f.write(str(p+1) + '\\n')"
   ]
  },
  {
   "cell_type": "code",
   "execution_count": null,
   "metadata": {},
   "outputs": [],
   "source": []
  }
 ],
 "metadata": {
  "kernelspec": {
   "display_name": "base",
   "language": "python",
   "name": "python3"
  },
  "language_info": {
   "codemirror_mode": {
    "name": "ipython",
    "version": 3
   },
   "file_extension": ".py",
   "mimetype": "text/x-python",
   "name": "python",
   "nbconvert_exporter": "python",
   "pygments_lexer": "ipython3",
   "version": "3.9.7"
  },
  "orig_nbformat": 4,
  "vscode": {
   "interpreter": {
    "hash": "b9b6150fce60c7c11180bd11ff42c178afdd9a9e30a53f6723387f7f29514c2e"
   }
  }
 },
 "nbformat": 4,
 "nbformat_minor": 2
}
